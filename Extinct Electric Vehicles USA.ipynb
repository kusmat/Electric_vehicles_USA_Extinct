{
 "cells": [
  {
   "cell_type": "markdown",
   "id": "0bde6bac",
   "metadata": {},
   "source": [
    "# This is the look at the USA cars fuel utilisation and engines and electric vehicles etc.\n"
   ]
  },
  {
   "cell_type": "markdown",
   "id": "77880d07",
   "metadata": {},
   "source": [
    "Data downloaded from the website: https://www.fueleconomy.gov/feg/download.shtml"
   ]
  },
  {
   "cell_type": "markdown",
   "id": "108b8791",
   "metadata": {},
   "source": [
    "#### Getting familiar with the data"
   ]
  },
  {
   "cell_type": "markdown",
   "id": "cc65ea98",
   "metadata": {},
   "source": [
    "* First importing libraries"
   ]
  },
  {
   "cell_type": "code",
   "execution_count": 1,
   "id": "18793c75",
   "metadata": {},
   "outputs": [],
   "source": [
    "import pandas as pd"
   ]
  },
  {
   "cell_type": "markdown",
   "id": "ef3d6c9f",
   "metadata": {},
   "source": [
    "* Reading data into the dataframe with pandas"
   ]
  },
  {
   "cell_type": "code",
   "execution_count": 2,
   "id": "55978392",
   "metadata": {},
   "outputs": [],
   "source": [
    "vehicles = pd.read_csv(\"vehicles.csv\", low_memory=False)"
   ]
  },
  {
   "cell_type": "code",
   "execution_count": 3,
   "id": "7e12ff08",
   "metadata": {},
   "outputs": [],
   "source": [
    "#vehicles[vehicles['fuelType1']=='Electricity'].sort_values(by='year')['year']"
   ]
  },
  {
   "cell_type": "markdown",
   "id": "d4039aa3",
   "metadata": {},
   "source": [
    "* Checking what columns are available and how many rows by running info() method."
   ]
  },
  {
   "cell_type": "code",
   "execution_count": 4,
   "id": "7caac778",
   "metadata": {},
   "outputs": [
    {
     "data": {
      "text/plain": [
       "Index(['barrels08', 'barrelsA08', 'charge120', 'charge240', 'city08',\n",
       "       'city08U', 'cityA08', 'cityA08U', 'cityCD', 'cityE', 'cityUF', 'co2',\n",
       "       'co2A', 'co2TailpipeAGpm', 'co2TailpipeGpm', 'comb08', 'comb08U',\n",
       "       'combA08', 'combA08U', 'combE', 'combinedCD', 'combinedUF', 'cylinders',\n",
       "       'displ', 'drive', 'engId', 'eng_dscr', 'feScore', 'fuelCost08',\n",
       "       'fuelCostA08', 'fuelType', 'fuelType1', 'ghgScore', 'ghgScoreA',\n",
       "       'highway08', 'highway08U', 'highwayA08', 'highwayA08U', 'highwayCD',\n",
       "       'highwayE', 'highwayUF', 'hlv', 'hpv', 'id', 'lv2', 'lv4', 'make',\n",
       "       'model', 'mpgData', 'phevBlended', 'pv2', 'pv4', 'range', 'rangeCity',\n",
       "       'rangeCityA', 'rangeHwy', 'rangeHwyA', 'trany', 'UCity', 'UCityA',\n",
       "       'UHighway', 'UHighwayA', 'VClass', 'year', 'youSaveSpend', 'guzzler',\n",
       "       'trans_dscr', 'tCharger', 'sCharger', 'atvType', 'fuelType2', 'rangeA',\n",
       "       'evMotor', 'mfrCode', 'c240Dscr', 'charge240b', 'c240bDscr',\n",
       "       'createdOn', 'modifiedOn', 'startStop', 'phevCity', 'phevHwy',\n",
       "       'phevComb'],\n",
       "      dtype='object')"
      ]
     },
     "execution_count": 4,
     "metadata": {},
     "output_type": "execute_result"
    }
   ],
   "source": [
    "vehicles.columns"
   ]
  },
  {
   "cell_type": "code",
   "execution_count": 5,
   "id": "df8b6039",
   "metadata": {},
   "outputs": [
    {
     "name": "stdout",
     "output_type": "stream",
     "text": [
      "<class 'pandas.core.frame.DataFrame'>\n",
      "RangeIndex: 44593 entries, 0 to 44592\n",
      "Data columns (total 83 columns):\n",
      " #   Column           Non-Null Count  Dtype  \n",
      "---  ------           --------------  -----  \n",
      " 0   barrels08        44593 non-null  float64\n",
      " 1   barrelsA08       44593 non-null  float64\n",
      " 2   charge120        44593 non-null  float64\n",
      " 3   charge240        44593 non-null  float64\n",
      " 4   city08           44593 non-null  int64  \n",
      " 5   city08U          44593 non-null  float64\n",
      " 6   cityA08          44593 non-null  int64  \n",
      " 7   cityA08U         44593 non-null  float64\n",
      " 8   cityCD           44593 non-null  float64\n",
      " 9   cityE            44593 non-null  float64\n",
      " 10  cityUF           44593 non-null  float64\n",
      " 11  co2              44593 non-null  int64  \n",
      " 12  co2A             44593 non-null  int64  \n",
      " 13  co2TailpipeAGpm  44593 non-null  float64\n",
      " 14  co2TailpipeGpm   44593 non-null  float64\n",
      " 15  comb08           44593 non-null  int64  \n",
      " 16  comb08U          44593 non-null  float64\n",
      " 17  combA08          44593 non-null  int64  \n",
      " 18  combA08U         44593 non-null  float64\n",
      " 19  combE            44593 non-null  float64\n",
      " 20  combinedCD       44593 non-null  float64\n",
      " 21  combinedUF       44593 non-null  float64\n",
      " 22  cylinders        44237 non-null  float64\n",
      " 23  displ            44239 non-null  float64\n",
      " 24  drive            43407 non-null  object \n",
      " 25  engId            44593 non-null  int64  \n",
      " 26  eng_dscr         27859 non-null  object \n",
      " 27  feScore          44593 non-null  int64  \n",
      " 28  fuelCost08       44593 non-null  int64  \n",
      " 29  fuelCostA08      44593 non-null  int64  \n",
      " 30  fuelType         44593 non-null  object \n",
      " 31  fuelType1        44593 non-null  object \n",
      " 32  ghgScore         44593 non-null  int64  \n",
      " 33  ghgScoreA        44593 non-null  int64  \n",
      " 34  highway08        44593 non-null  int64  \n",
      " 35  highway08U       44593 non-null  float64\n",
      " 36  highwayA08       44593 non-null  int64  \n",
      " 37  highwayA08U      44593 non-null  float64\n",
      " 38  highwayCD        44593 non-null  float64\n",
      " 39  highwayE         44593 non-null  float64\n",
      " 40  highwayUF        44593 non-null  float64\n",
      " 41  hlv              44593 non-null  int64  \n",
      " 42  hpv              44593 non-null  int64  \n",
      " 43  id               44593 non-null  int64  \n",
      " 44  lv2              44593 non-null  int64  \n",
      " 45  lv4              44593 non-null  int64  \n",
      " 46  make             44593 non-null  object \n",
      " 47  model            44593 non-null  object \n",
      " 48  mpgData          44554 non-null  object \n",
      " 49  phevBlended      44593 non-null  bool   \n",
      " 50  pv2              44593 non-null  int64  \n",
      " 51  pv4              44593 non-null  int64  \n",
      " 52  range            44593 non-null  int64  \n",
      " 53  rangeCity        44593 non-null  float64\n",
      " 54  rangeCityA       44593 non-null  float64\n",
      " 55  rangeHwy         44593 non-null  float64\n",
      " 56  rangeHwyA        44593 non-null  float64\n",
      " 57  trany            44582 non-null  object \n",
      " 58  UCity            44593 non-null  float64\n",
      " 59  UCityA           44593 non-null  float64\n",
      " 60  UHighway         44593 non-null  float64\n",
      " 61  UHighwayA        44593 non-null  float64\n",
      " 62  VClass           44593 non-null  object \n",
      " 63  year             44593 non-null  int64  \n",
      " 64  youSaveSpend     44593 non-null  int64  \n",
      " 65  guzzler          2612 non-null   object \n",
      " 66  trans_dscr       15044 non-null  object \n",
      " 67  tCharger         8776 non-null   object \n",
      " 68  sCharger         953 non-null    object \n",
      " 69  atvType          4282 non-null   object \n",
      " 70  fuelType2        1787 non-null   object \n",
      " 71  rangeA           1782 non-null   object \n",
      " 72  evMotor          1471 non-null   object \n",
      " 73  mfrCode          13785 non-null  object \n",
      " 74  c240Dscr         118 non-null    object \n",
      " 75  charge240b       44593 non-null  float64\n",
      " 76  c240bDscr        112 non-null    object \n",
      " 77  createdOn        44593 non-null  object \n",
      " 78  modifiedOn       44593 non-null  object \n",
      " 79  startStop        12904 non-null  object \n",
      " 80  phevCity         44593 non-null  int64  \n",
      " 81  phevHwy          44593 non-null  int64  \n",
      " 82  phevComb         44593 non-null  int64  \n",
      "dtypes: bool(1), float64(32), int64(27), object(23)\n",
      "memory usage: 27.9+ MB\n"
     ]
    }
   ],
   "source": [
    "vehicles.info()"
   ]
  },
  {
   "cell_type": "markdown",
   "id": "56442bc2",
   "metadata": {},
   "source": [
    "* Visually checking how much of the data is missing with heatmap in seaborn"
   ]
  },
  {
   "cell_type": "code",
   "execution_count": 6,
   "id": "5b9bb012",
   "metadata": {},
   "outputs": [],
   "source": [
    "import matplotlib.pyplot as plt\n",
    "%matplotlib inline\n",
    "import seaborn as sns"
   ]
  },
  {
   "cell_type": "code",
   "execution_count": 7,
   "id": "4ee10eb2",
   "metadata": {},
   "outputs": [
    {
     "data": {
      "text/plain": [
       "<AxesSubplot:>"
      ]
     },
     "execution_count": 7,
     "metadata": {},
     "output_type": "execute_result"
    },
    {
     "data": {
      "image/png": "[encoded data removed]",
      "text/plain": [
       "<Figure size 1080x1080 with 1 Axes>"
      ]
     },
     "metadata": {
      "needs_background": "light"
     },
     "output_type": "display_data"
    }
   ],
   "source": [
    "plt.figure(figsize = (15, 15))\n",
    "sns.heatmap(vehicles.isna(), cbar = False, cmap = 'viridis', xticklabels=True)"
   ]
  },
  {
   "cell_type": "markdown",
   "id": "6f1ccb47",
   "metadata": {},
   "source": [
    "This plot gives us good overview of where we have missing data, so that if we have to use one we can decide what to do with it. I am not going to clean it now, as I may not need them and I will only lose time."
   ]
  },
  {
   "cell_type": "markdown",
   "id": "9d7655b9",
   "metadata": {},
   "source": [
    "#### Summarizing data"
   ]
  },
  {
   "cell_type": "markdown",
   "id": "11e6ad9f",
   "metadata": {},
   "source": [
    "* Trying to see how many vehicles for each fuel type are included in the database in each year, but making a count per year and graphing"
   ]
  },
  {
   "cell_type": "code",
   "execution_count": 8,
   "id": "482e351d",
   "metadata": {},
   "outputs": [
    {
     "data": {
      "text/plain": [
       "Regular                        27855\n",
       "Premium                        13169\n",
       "Gasoline or E85                 1369\n",
       "Diesel                          1231\n",
       "Electricity                      353\n",
       "Midgrade                         138\n",
       "Premium or E85                   127\n",
       "Premium and Electricity          125\n",
       "Regular Gas and Electricity       77\n",
       "CNG                               60\n",
       "Premium Gas or Electricity        57\n",
       "Gasoline or natural gas           20\n",
       "Gasoline or propane                8\n",
       "Regular Gas or Electricity         4\n",
       "Name: fuelType, dtype: int64"
      ]
     },
     "execution_count": 8,
     "metadata": {},
     "output_type": "execute_result"
    }
   ],
   "source": [
    "vehicles['fuelType'].value_counts() #44593"
   ]
  },
  {
   "cell_type": "markdown",
   "id": "d2cccbcb",
   "metadata": {},
   "source": [
    "* Now we are going to separate those per year"
   ]
  },
  {
   "cell_type": "code",
   "execution_count": 9,
   "id": "ebde55a9",
   "metadata": {},
   "outputs": [],
   "source": [
    "vehicles_makes_by_year_by_fueltype = vehicles.groupby(by = ['year', 'fuelType1']).count()['make'].unstack()"
   ]
  },
  {
   "cell_type": "code",
   "execution_count": 10,
   "id": "52ed9d04",
   "metadata": {},
   "outputs": [
    {
     "data": {
      "text/html": [
       "<div>\n",
       "<style scoped>\n",
       "    .dataframe tbody tr th:only-of-type {\n",
       "        vertical-align: middle;\n",
       "    }\n",
       "\n",
       "    .dataframe tbody tr th {\n",
       "        vertical-align: top;\n",
       "    }\n",
       "\n",
       "    .dataframe thead th {\n",
       "        text-align: right;\n",
       "    }\n",
       "</style>\n",
       "<table border=\"1\" class=\"dataframe\">\n",
       "  <thead>\n",
       "    <tr style=\"text-align: right;\">\n",
       "      <th>fuelType1</th>\n",
       "      <th>Diesel</th>\n",
       "      <th>Electricity</th>\n",
       "      <th>Midgrade Gasoline</th>\n",
       "      <th>Natural Gas</th>\n",
       "      <th>Premium Gasoline</th>\n",
       "      <th>Regular Gasoline</th>\n",
       "    </tr>\n",
       "    <tr>\n",
       "      <th>year</th>\n",
       "      <th></th>\n",
       "      <th></th>\n",
       "      <th></th>\n",
       "      <th></th>\n",
       "      <th></th>\n",
       "      <th></th>\n",
       "    </tr>\n",
       "  </thead>\n",
       "  <tbody>\n",
       "    <tr>\n",
       "      <th>1984</th>\n",
       "      <td>262.0</td>\n",
       "      <td>NaN</td>\n",
       "      <td>NaN</td>\n",
       "      <td>NaN</td>\n",
       "      <td>NaN</td>\n",
       "      <td>1702.0</td>\n",
       "    </tr>\n",
       "    <tr>\n",
       "      <th>1985</th>\n",
       "      <td>158.0</td>\n",
       "      <td>NaN</td>\n",
       "      <td>NaN</td>\n",
       "      <td>NaN</td>\n",
       "      <td>101.0</td>\n",
       "      <td>1442.0</td>\n",
       "    </tr>\n",
       "    <tr>\n",
       "      <th>1986</th>\n",
       "      <td>71.0</td>\n",
       "      <td>NaN</td>\n",
       "      <td>NaN</td>\n",
       "      <td>NaN</td>\n",
       "      <td>75.0</td>\n",
       "      <td>1064.0</td>\n",
       "    </tr>\n",
       "    <tr>\n",
       "      <th>1987</th>\n",
       "      <td>56.0</td>\n",
       "      <td>NaN</td>\n",
       "      <td>NaN</td>\n",
       "      <td>NaN</td>\n",
       "      <td>89.0</td>\n",
       "      <td>1102.0</td>\n",
       "    </tr>\n",
       "    <tr>\n",
       "      <th>1988</th>\n",
       "      <td>31.0</td>\n",
       "      <td>NaN</td>\n",
       "      <td>NaN</td>\n",
       "      <td>NaN</td>\n",
       "      <td>104.0</td>\n",
       "      <td>995.0</td>\n",
       "    </tr>\n",
       "    <tr>\n",
       "      <th>1989</th>\n",
       "      <td>33.0</td>\n",
       "      <td>NaN</td>\n",
       "      <td>NaN</td>\n",
       "      <td>NaN</td>\n",
       "      <td>142.0</td>\n",
       "      <td>978.0</td>\n",
       "    </tr>\n",
       "    <tr>\n",
       "      <th>1990</th>\n",
       "      <td>29.0</td>\n",
       "      <td>NaN</td>\n",
       "      <td>NaN</td>\n",
       "      <td>NaN</td>\n",
       "      <td>128.0</td>\n",
       "      <td>921.0</td>\n",
       "    </tr>\n",
       "    <tr>\n",
       "      <th>1991</th>\n",
       "      <td>39.0</td>\n",
       "      <td>NaN</td>\n",
       "      <td>NaN</td>\n",
       "      <td>NaN</td>\n",
       "      <td>198.0</td>\n",
       "      <td>895.0</td>\n",
       "    </tr>\n",
       "    <tr>\n",
       "      <th>1992</th>\n",
       "      <td>23.0</td>\n",
       "      <td>NaN</td>\n",
       "      <td>NaN</td>\n",
       "      <td>NaN</td>\n",
       "      <td>221.0</td>\n",
       "      <td>877.0</td>\n",
       "    </tr>\n",
       "    <tr>\n",
       "      <th>1993</th>\n",
       "      <td>22.0</td>\n",
       "      <td>NaN</td>\n",
       "      <td>NaN</td>\n",
       "      <td>1.0</td>\n",
       "      <td>209.0</td>\n",
       "      <td>861.0</td>\n",
       "    </tr>\n",
       "    <tr>\n",
       "      <th>1994</th>\n",
       "      <td>31.0</td>\n",
       "      <td>NaN</td>\n",
       "      <td>NaN</td>\n",
       "      <td>1.0</td>\n",
       "      <td>204.0</td>\n",
       "      <td>746.0</td>\n",
       "    </tr>\n",
       "    <tr>\n",
       "      <th>1995</th>\n",
       "      <td>32.0</td>\n",
       "      <td>NaN</td>\n",
       "      <td>NaN</td>\n",
       "      <td>1.0</td>\n",
       "      <td>201.0</td>\n",
       "      <td>733.0</td>\n",
       "    </tr>\n",
       "    <tr>\n",
       "      <th>1996</th>\n",
       "      <td>13.0</td>\n",
       "      <td>NaN</td>\n",
       "      <td>NaN</td>\n",
       "      <td>1.0</td>\n",
       "      <td>147.0</td>\n",
       "      <td>612.0</td>\n",
       "    </tr>\n",
       "    <tr>\n",
       "      <th>1997</th>\n",
       "      <td>11.0</td>\n",
       "      <td>NaN</td>\n",
       "      <td>NaN</td>\n",
       "      <td>1.0</td>\n",
       "      <td>169.0</td>\n",
       "      <td>581.0</td>\n",
       "    </tr>\n",
       "    <tr>\n",
       "      <th>1998</th>\n",
       "      <td>14.0</td>\n",
       "      <td>3.0</td>\n",
       "      <td>NaN</td>\n",
       "      <td>3.0</td>\n",
       "      <td>155.0</td>\n",
       "      <td>637.0</td>\n",
       "    </tr>\n",
       "    <tr>\n",
       "      <th>1999</th>\n",
       "      <td>10.0</td>\n",
       "      <td>7.0</td>\n",
       "      <td>NaN</td>\n",
       "      <td>5.0</td>\n",
       "      <td>174.0</td>\n",
       "      <td>656.0</td>\n",
       "    </tr>\n",
       "    <tr>\n",
       "      <th>2000</th>\n",
       "      <td>6.0</td>\n",
       "      <td>4.0</td>\n",
       "      <td>NaN</td>\n",
       "      <td>5.0</td>\n",
       "      <td>234.0</td>\n",
       "      <td>591.0</td>\n",
       "    </tr>\n",
       "    <tr>\n",
       "      <th>2001</th>\n",
       "      <td>6.0</td>\n",
       "      <td>5.0</td>\n",
       "      <td>NaN</td>\n",
       "      <td>7.0</td>\n",
       "      <td>272.0</td>\n",
       "      <td>621.0</td>\n",
       "    </tr>\n",
       "    <tr>\n",
       "      <th>2002</th>\n",
       "      <td>8.0</td>\n",
       "      <td>2.0</td>\n",
       "      <td>NaN</td>\n",
       "      <td>5.0</td>\n",
       "      <td>300.0</td>\n",
       "      <td>660.0</td>\n",
       "    </tr>\n",
       "    <tr>\n",
       "      <th>2003</th>\n",
       "      <td>9.0</td>\n",
       "      <td>1.0</td>\n",
       "      <td>NaN</td>\n",
       "      <td>4.0</td>\n",
       "      <td>360.0</td>\n",
       "      <td>670.0</td>\n",
       "    </tr>\n",
       "    <tr>\n",
       "      <th>2004</th>\n",
       "      <td>11.0</td>\n",
       "      <td>NaN</td>\n",
       "      <td>NaN</td>\n",
       "      <td>8.0</td>\n",
       "      <td>422.0</td>\n",
       "      <td>681.0</td>\n",
       "    </tr>\n",
       "    <tr>\n",
       "      <th>2005</th>\n",
       "      <td>14.0</td>\n",
       "      <td>NaN</td>\n",
       "      <td>NaN</td>\n",
       "      <td>5.0</td>\n",
       "      <td>468.0</td>\n",
       "      <td>679.0</td>\n",
       "    </tr>\n",
       "    <tr>\n",
       "      <th>2006</th>\n",
       "      <td>9.0</td>\n",
       "      <td>NaN</td>\n",
       "      <td>NaN</td>\n",
       "      <td>1.0</td>\n",
       "      <td>440.0</td>\n",
       "      <td>654.0</td>\n",
       "    </tr>\n",
       "    <tr>\n",
       "      <th>2007</th>\n",
       "      <td>7.0</td>\n",
       "      <td>NaN</td>\n",
       "      <td>NaN</td>\n",
       "      <td>1.0</td>\n",
       "      <td>467.0</td>\n",
       "      <td>651.0</td>\n",
       "    </tr>\n",
       "    <tr>\n",
       "      <th>2008</th>\n",
       "      <td>7.0</td>\n",
       "      <td>1.0</td>\n",
       "      <td>NaN</td>\n",
       "      <td>1.0</td>\n",
       "      <td>527.0</td>\n",
       "      <td>651.0</td>\n",
       "    </tr>\n",
       "    <tr>\n",
       "      <th>2009</th>\n",
       "      <td>9.0</td>\n",
       "      <td>NaN</td>\n",
       "      <td>NaN</td>\n",
       "      <td>1.0</td>\n",
       "      <td>415.0</td>\n",
       "      <td>756.0</td>\n",
       "    </tr>\n",
       "    <tr>\n",
       "      <th>2010</th>\n",
       "      <td>11.0</td>\n",
       "      <td>NaN</td>\n",
       "      <td>NaN</td>\n",
       "      <td>1.0</td>\n",
       "      <td>408.0</td>\n",
       "      <td>686.0</td>\n",
       "    </tr>\n",
       "    <tr>\n",
       "      <th>2011</th>\n",
       "      <td>12.0</td>\n",
       "      <td>4.0</td>\n",
       "      <td>5.0</td>\n",
       "      <td>2.0</td>\n",
       "      <td>427.0</td>\n",
       "      <td>676.0</td>\n",
       "    </tr>\n",
       "    <tr>\n",
       "      <th>2012</th>\n",
       "      <td>11.0</td>\n",
       "      <td>9.0</td>\n",
       "      <td>11.0</td>\n",
       "      <td>2.0</td>\n",
       "      <td>470.0</td>\n",
       "      <td>644.0</td>\n",
       "    </tr>\n",
       "    <tr>\n",
       "      <th>2013</th>\n",
       "      <td>17.0</td>\n",
       "      <td>14.0</td>\n",
       "      <td>13.0</td>\n",
       "      <td>1.0</td>\n",
       "      <td>509.0</td>\n",
       "      <td>626.0</td>\n",
       "    </tr>\n",
       "    <tr>\n",
       "      <th>2014</th>\n",
       "      <td>30.0</td>\n",
       "      <td>15.0</td>\n",
       "      <td>14.0</td>\n",
       "      <td>2.0</td>\n",
       "      <td>554.0</td>\n",
       "      <td>606.0</td>\n",
       "    </tr>\n",
       "    <tr>\n",
       "      <th>2015</th>\n",
       "      <td>36.0</td>\n",
       "      <td>18.0</td>\n",
       "      <td>11.0</td>\n",
       "      <td>1.0</td>\n",
       "      <td>586.0</td>\n",
       "      <td>628.0</td>\n",
       "    </tr>\n",
       "    <tr>\n",
       "      <th>2016</th>\n",
       "      <td>26.0</td>\n",
       "      <td>31.0</td>\n",
       "      <td>10.0</td>\n",
       "      <td>NaN</td>\n",
       "      <td>568.0</td>\n",
       "      <td>627.0</td>\n",
       "    </tr>\n",
       "    <tr>\n",
       "      <th>2017</th>\n",
       "      <td>21.0</td>\n",
       "      <td>30.0</td>\n",
       "      <td>13.0</td>\n",
       "      <td>NaN</td>\n",
       "      <td>592.0</td>\n",
       "      <td>637.0</td>\n",
       "    </tr>\n",
       "    <tr>\n",
       "      <th>2018</th>\n",
       "      <td>38.0</td>\n",
       "      <td>24.0</td>\n",
       "      <td>13.0</td>\n",
       "      <td>NaN</td>\n",
       "      <td>670.0</td>\n",
       "      <td>603.0</td>\n",
       "    </tr>\n",
       "    <tr>\n",
       "      <th>2019</th>\n",
       "      <td>30.0</td>\n",
       "      <td>35.0</td>\n",
       "      <td>12.0</td>\n",
       "      <td>NaN</td>\n",
       "      <td>659.0</td>\n",
       "      <td>607.0</td>\n",
       "    </tr>\n",
       "    <tr>\n",
       "      <th>2020</th>\n",
       "      <td>20.0</td>\n",
       "      <td>38.0</td>\n",
       "      <td>12.0</td>\n",
       "      <td>NaN</td>\n",
       "      <td>642.0</td>\n",
       "      <td>542.0</td>\n",
       "    </tr>\n",
       "    <tr>\n",
       "      <th>2021</th>\n",
       "      <td>30.0</td>\n",
       "      <td>51.0</td>\n",
       "      <td>13.0</td>\n",
       "      <td>NaN</td>\n",
       "      <td>632.0</td>\n",
       "      <td>557.0</td>\n",
       "    </tr>\n",
       "    <tr>\n",
       "      <th>2022</th>\n",
       "      <td>28.0</td>\n",
       "      <td>61.0</td>\n",
       "      <td>11.0</td>\n",
       "      <td>NaN</td>\n",
       "      <td>539.0</td>\n",
       "      <td>478.0</td>\n",
       "    </tr>\n",
       "  </tbody>\n",
       "</table>\n",
       "</div>"
      ],
      "text/plain": [
       "fuelType1  Diesel  Electricity  Midgrade Gasoline  Natural Gas  \\\n",
       "year                                                             \n",
       "1984        262.0          NaN                NaN          NaN   \n",
       "1985        158.0          NaN                NaN          NaN   \n",
       "1986         71.0          NaN                NaN          NaN   \n",
       "1987         56.0          NaN                NaN          NaN   \n",
       "1988         31.0          NaN                NaN          NaN   \n",
       "1989         33.0          NaN                NaN          NaN   \n",
       "1990         29.0          NaN                NaN          NaN   \n",
       "1991         39.0          NaN                NaN          NaN   \n",
       "1992         23.0          NaN                NaN          NaN   \n",
       "1993         22.0          NaN                NaN          1.0   \n",
       "1994         31.0          NaN                NaN          1.0   \n",
       "1995         32.0          NaN                NaN          1.0   \n",
       "1996         13.0          NaN                NaN          1.0   \n",
       "1997         11.0          NaN                NaN          1.0   \n",
       "1998         14.0          3.0                NaN          3.0   \n",
       "1999         10.0          7.0                NaN          5.0   \n",
       "2000          6.0          4.0                NaN          5.0   \n",
       "2001          6.0          5.0                NaN          7.0   \n",
       "2002          8.0          2.0                NaN          5.0   \n",
       "2003          9.0          1.0                NaN          4.0   \n",
       "2004         11.0          NaN                NaN          8.0   \n",
       "2005         14.0          NaN                NaN          5.0   \n",
       "2006          9.0          NaN                NaN          1.0   \n",
       "2007          7.0          NaN                NaN          1.0   \n",
       "2008          7.0          1.0                NaN          1.0   \n",
       "2009          9.0          NaN                NaN          1.0   \n",
       "2010         11.0          NaN                NaN          1.0   \n",
       "2011         12.0          4.0                5.0          2.0   \n",
       "2012         11.0          9.0               11.0          2.0   \n",
       "2013         17.0         14.0               13.0          1.0   \n",
       "2014         30.0         15.0               14.0          2.0   \n",
       "2015         36.0         18.0               11.0          1.0   \n",
       "2016         26.0         31.0               10.0          NaN   \n",
       "2017         21.0         30.0               13.0          NaN   \n",
       "2018         38.0         24.0               13.0          NaN   \n",
       "2019         30.0         35.0               12.0          NaN   \n",
       "2020         20.0         38.0               12.0          NaN   \n",
       "2021         30.0         51.0               13.0          NaN   \n",
       "2022         28.0         61.0               11.0          NaN   \n",
       "\n",
       "fuelType1  Premium Gasoline  Regular Gasoline  \n",
       "year                                           \n",
       "1984                    NaN            1702.0  \n",
       "1985                  101.0            1442.0  \n",
       "1986                   75.0            1064.0  \n",
       "1987                   89.0            1102.0  \n",
       "1988                  104.0             995.0  \n",
       "1989                  142.0             978.0  \n",
       "1990                  128.0             921.0  \n",
       "1991                  198.0             895.0  \n",
       "1992                  221.0             877.0  \n",
       "1993                  209.0             861.0  \n",
       "1994                  204.0             746.0  \n",
       "1995                  201.0             733.0  \n",
       "1996                  147.0             612.0  \n",
       "1997                  169.0             581.0  \n",
       "1998                  155.0             637.0  \n",
       "1999                  174.0             656.0  \n",
       "2000                  234.0             591.0  \n",
       "2001                  272.0             621.0  \n",
       "2002                  300.0             660.0  \n",
       "2003                  360.0             670.0  \n",
       "2004                  422.0             681.0  \n",
       "2005                  468.0             679.0  \n",
       "2006                  440.0             654.0  \n",
       "2007                  467.0             651.0  \n",
       "2008                  527.0             651.0  \n",
       "2009                  415.0             756.0  \n",
       "2010                  408.0             686.0  \n",
       "2011                  427.0             676.0  \n",
       "2012                  470.0             644.0  \n",
       "2013                  509.0             626.0  \n",
       "2014                  554.0             606.0  \n",
       "2015                  586.0             628.0  \n",
       "2016                  568.0             627.0  \n",
       "2017                  592.0             637.0  \n",
       "2018                  670.0             603.0  \n",
       "2019                  659.0             607.0  \n",
       "2020                  642.0             542.0  \n",
       "2021                  632.0             557.0  \n",
       "2022                  539.0             478.0  "
      ]
     },
     "execution_count": 10,
     "metadata": {},
     "output_type": "execute_result"
    }
   ],
   "source": [
    "vehicles_makes_by_year_by_fueltype"
   ]
  },
  {
   "cell_type": "markdown",
   "id": "df972597",
   "metadata": {},
   "source": [
    "#### Making a table with count of electric models and makes for graphing"
   ]
  },
  {
   "cell_type": "markdown",
   "id": "f1687d5f",
   "metadata": {},
   "source": [
    "* summarizing data by counting manufacturers, models and putting into the table for graphing"
   ]
  },
  {
   "cell_type": "code",
   "execution_count": 11,
   "id": "3d5d4c78",
   "metadata": {},
   "outputs": [],
   "source": [
    "#electric vehicles manufacturers = makes\n",
    "only_electric_cars = vehicles[vehicles['fuelType1']=='Electricity']\n",
    "electric_vehicles_manufacturers_count = only_electric_cars.groupby(['year', 'make']).count()['model'].groupby('year').count()"
   ]
  },
  {
   "cell_type": "code",
   "execution_count": 12,
   "id": "c1ee741c",
   "metadata": {},
   "outputs": [],
   "source": [
    "#electric vehicles car models\n",
    "electric_vehicles_models_count = only_electric_cars.groupby(['year', 'make']).count()['model'].groupby(by = 'year').sum()"
   ]
  },
  {
   "cell_type": "code",
   "execution_count": 13,
   "id": "0dd6a476",
   "metadata": {},
   "outputs": [],
   "source": [
    "#electric vehicles all count of makes\n",
    "all_vehicles_manufacturers_count = vehicles.groupby('year').count()['model']"
   ]
  },
  {
   "cell_type": "code",
   "execution_count": 14,
   "id": "9e619362",
   "metadata": {},
   "outputs": [],
   "source": [
    "count_table_electric_vehicles = pd.merge(all_vehicles_manufacturers_count, electric_vehicles_models_count, left_index=True, right_index = True, how = 'left')\n",
    "count_table_electric_vehicles = pd.merge(count_table_electric_vehicles, electric_vehicles_manufacturers_count, left_index=True, right_index = True, how = 'left')\n",
    "count_table_electric_vehicles.columns = ['all_fuels','electric_models','electric_makes']\n"
   ]
  },
  {
   "cell_type": "markdown",
   "id": "78244bd1",
   "metadata": {},
   "source": [
    "* graphing prepared table for display"
   ]
  },
  {
   "cell_type": "markdown",
   "id": "7711bce1",
   "metadata": {},
   "source": [
    "Models"
   ]
  },
  {
   "cell_type": "code",
   "execution_count": 15,
   "id": "61225f70",
   "metadata": {},
   "outputs": [
    {
     "data": {
      "image/png": "[encoded data removed]",
      "text/plain": [
       "<Figure size 1080x504 with 1 Axes>"
      ]
     },
     "metadata": {
      "needs_background": "light"
     },
     "output_type": "display_data"
    }
   ],
   "source": [
    "plt.figure(figsize = (15, 7))\n",
    "plt.plot(count_table_electric_vehicles.loc[:,'electric_models'], linewidth = 3)\n",
    "plt.title('Number of new electric cars models manufactured', size = 18)\n",
    "plt.xlabel('Year', size = 14)\n",
    "plt.ylabel('Number of Models', size =14)\n",
    "plt.xticks(ticks = range(1998,2023,2),size = 14)\n",
    "plt.yticks(ticks = range(0,61,5), size = 14)\n",
    "plt.grid()\n"
   ]
  },
  {
   "cell_type": "markdown",
   "id": "672f7e41",
   "metadata": {},
   "source": [
    "Makes"
   ]
  },
  {
   "cell_type": "code",
   "execution_count": 16,
   "id": "c9a5ef68",
   "metadata": {},
   "outputs": [
    {
     "data": {
      "image/png": "[encoded data removed]",
      "text/plain": [
       "<Figure size 1080x504 with 1 Axes>"
      ]
     },
     "metadata": {
      "needs_background": "light"
     },
     "output_type": "display_data"
    }
   ],
   "source": [
    "plt.figure(figsize = (15, 7))\n",
    "plt.plot(count_table_electric_vehicles.loc[:,'electric_makes'], linewidth = 3)\n",
    "plt.title('Number of new electric cars manufacturers', size = 18)\n",
    "plt.xlabel('Year', size = 14)\n",
    "plt.ylabel('Number of Manufacturers', size =14)\n",
    "plt.xticks(ticks = range(1998,2023,2),size = 14)\n",
    "plt.yticks(ticks = range(0,25,5), size = 14)\n",
    "plt.grid()\n"
   ]
  },
  {
   "cell_type": "markdown",
   "id": "daa5fb2a",
   "metadata": {},
   "source": [
    "We can see from this that there is an increase in electric vehicles, but it is now still about 60 cars. I will check how many car marks are there."
   ]
  },
  {
   "cell_type": "markdown",
   "id": "6aa86df5",
   "metadata": {},
   "source": [
    "#### Checking for top 3 Electric vehicles manufacturers in 2021"
   ]
  },
  {
   "cell_type": "code",
   "execution_count": 17,
   "id": "0c87f8d3",
   "metadata": {},
   "outputs": [
    {
     "data": {
      "text/plain": [
       "Tesla         13\n",
       "Porsche       10\n",
       "Ford           7\n",
       "Volkswagen     5\n",
       "Nissan         3\n",
       "Audi           2\n",
       "BMW            2\n",
       "Hyundai        2\n",
       "MINI           1\n",
       "Polestar       1\n",
       "Volvo          1\n",
       "Kandi          1\n",
       "Chevrolet      1\n",
       "Kia            1\n",
       "Jaguar         1\n",
       "Name: make, dtype: int64"
      ]
     },
     "execution_count": 17,
     "metadata": {},
     "output_type": "execute_result"
    }
   ],
   "source": [
    "vehicles[(vehicles['fuelType1']=='Electricity')& (vehicles['year'] == 2021)]['make'].value_counts()"
   ]
  },
  {
   "cell_type": "markdown",
   "id": "3a3e36b5",
   "metadata": {},
   "source": [
    "* Surprising fact is the __Porsche__ is on the second place (with audi). In 2021, Porsche was on the second place, with audi catching up in 2022. I will look a little more at porsche models, to find out exactly how this is possible and what models they offer."
   ]
  },
  {
   "cell_type": "code",
   "execution_count": 18,
   "id": "9815d18e",
   "metadata": {},
   "outputs": [
    {
     "data": {
      "text/html": [
       "<div>\n",
       "<style scoped>\n",
       "    .dataframe tbody tr th:only-of-type {\n",
       "        vertical-align: middle;\n",
       "    }\n",
       "\n",
       "    .dataframe tbody tr th {\n",
       "        vertical-align: top;\n",
       "    }\n",
       "\n",
       "    .dataframe thead th {\n",
       "        text-align: right;\n",
       "    }\n",
       "</style>\n",
       "<table border=\"1\" class=\"dataframe\">\n",
       "  <thead>\n",
       "    <tr style=\"text-align: right;\">\n",
       "      <th></th>\n",
       "      <th>make</th>\n",
       "      <th>model</th>\n",
       "    </tr>\n",
       "  </thead>\n",
       "  <tbody>\n",
       "    <tr>\n",
       "      <th>36818</th>\n",
       "      <td>Audi</td>\n",
       "      <td>e-tron</td>\n",
       "    </tr>\n",
       "    <tr>\n",
       "      <th>36819</th>\n",
       "      <td>Audi</td>\n",
       "      <td>e-tron Sportback</td>\n",
       "    </tr>\n",
       "    <tr>\n",
       "      <th>38152</th>\n",
       "      <td>Porsche</td>\n",
       "      <td>Taycan 4 Cross Turismo</td>\n",
       "    </tr>\n",
       "    <tr>\n",
       "      <th>38153</th>\n",
       "      <td>Porsche</td>\n",
       "      <td>Taycan 4S Cross Turismo</td>\n",
       "    </tr>\n",
       "    <tr>\n",
       "      <th>37024</th>\n",
       "      <td>Porsche</td>\n",
       "      <td>Taycan 4S Perf Battery</td>\n",
       "    </tr>\n",
       "    <tr>\n",
       "      <th>37025</th>\n",
       "      <td>Porsche</td>\n",
       "      <td>Taycan 4S Perf Battery Plus</td>\n",
       "    </tr>\n",
       "    <tr>\n",
       "      <th>37155</th>\n",
       "      <td>Porsche</td>\n",
       "      <td>Taycan Perf Battery</td>\n",
       "    </tr>\n",
       "    <tr>\n",
       "      <th>37156</th>\n",
       "      <td>Porsche</td>\n",
       "      <td>Taycan Perf Battery Plus</td>\n",
       "    </tr>\n",
       "    <tr>\n",
       "      <th>37265</th>\n",
       "      <td>Porsche</td>\n",
       "      <td>Taycan Turbo</td>\n",
       "    </tr>\n",
       "    <tr>\n",
       "      <th>38155</th>\n",
       "      <td>Porsche</td>\n",
       "      <td>Taycan Turbo Cross Turismo</td>\n",
       "    </tr>\n",
       "    <tr>\n",
       "      <th>37266</th>\n",
       "      <td>Porsche</td>\n",
       "      <td>Taycan Turbo S</td>\n",
       "    </tr>\n",
       "    <tr>\n",
       "      <th>38154</th>\n",
       "      <td>Porsche</td>\n",
       "      <td>Taycan Turbo S Cross Turismo</td>\n",
       "    </tr>\n",
       "    <tr>\n",
       "      <th>36712</th>\n",
       "      <td>Tesla</td>\n",
       "      <td>Model 3 Long Range AWD</td>\n",
       "    </tr>\n",
       "    <tr>\n",
       "      <th>36713</th>\n",
       "      <td>Tesla</td>\n",
       "      <td>Model 3 Performance AWD</td>\n",
       "    </tr>\n",
       "    <tr>\n",
       "      <th>37176</th>\n",
       "      <td>Tesla</td>\n",
       "      <td>Model 3 Standard Range Plus RWD</td>\n",
       "    </tr>\n",
       "    <tr>\n",
       "      <th>37417</th>\n",
       "      <td>Tesla</td>\n",
       "      <td>Model S Long Range</td>\n",
       "    </tr>\n",
       "    <tr>\n",
       "      <th>36839</th>\n",
       "      <td>Tesla</td>\n",
       "      <td>Model S Performance (19in Wheels)</td>\n",
       "    </tr>\n",
       "    <tr>\n",
       "      <th>36840</th>\n",
       "      <td>Tesla</td>\n",
       "      <td>Model S Performance (21in Wheels)</td>\n",
       "    </tr>\n",
       "    <tr>\n",
       "      <th>37436</th>\n",
       "      <td>Tesla</td>\n",
       "      <td>Model S Plaid (21in Wheels)</td>\n",
       "    </tr>\n",
       "    <tr>\n",
       "      <th>36714</th>\n",
       "      <td>Tesla</td>\n",
       "      <td>Model X Long Range Plus</td>\n",
       "    </tr>\n",
       "    <tr>\n",
       "      <th>36715</th>\n",
       "      <td>Tesla</td>\n",
       "      <td>Model X Performance (20in Wheels)</td>\n",
       "    </tr>\n",
       "    <tr>\n",
       "      <th>36716</th>\n",
       "      <td>Tesla</td>\n",
       "      <td>Model X Performance (22in Wheels)</td>\n",
       "    </tr>\n",
       "    <tr>\n",
       "      <th>36717</th>\n",
       "      <td>Tesla</td>\n",
       "      <td>Model Y Long Range AWD</td>\n",
       "    </tr>\n",
       "    <tr>\n",
       "      <th>36718</th>\n",
       "      <td>Tesla</td>\n",
       "      <td>Model Y Performance AWD</td>\n",
       "    </tr>\n",
       "    <tr>\n",
       "      <th>37237</th>\n",
       "      <td>Tesla</td>\n",
       "      <td>Model Y Standard Range RWD</td>\n",
       "    </tr>\n",
       "  </tbody>\n",
       "</table>\n",
       "</div>"
      ],
      "text/plain": [
       "          make                              model\n",
       "36818     Audi                             e-tron\n",
       "36819     Audi                   e-tron Sportback\n",
       "38152  Porsche             Taycan 4 Cross Turismo\n",
       "38153  Porsche            Taycan 4S Cross Turismo\n",
       "37024  Porsche             Taycan 4S Perf Battery\n",
       "37025  Porsche        Taycan 4S Perf Battery Plus\n",
       "37155  Porsche                Taycan Perf Battery\n",
       "37156  Porsche           Taycan Perf Battery Plus\n",
       "37265  Porsche                       Taycan Turbo\n",
       "38155  Porsche         Taycan Turbo Cross Turismo\n",
       "37266  Porsche                     Taycan Turbo S\n",
       "38154  Porsche       Taycan Turbo S Cross Turismo\n",
       "36712    Tesla             Model 3 Long Range AWD\n",
       "36713    Tesla            Model 3 Performance AWD\n",
       "37176    Tesla    Model 3 Standard Range Plus RWD\n",
       "37417    Tesla                 Model S Long Range\n",
       "36839    Tesla  Model S Performance (19in Wheels)\n",
       "36840    Tesla  Model S Performance (21in Wheels)\n",
       "37436    Tesla        Model S Plaid (21in Wheels)\n",
       "36714    Tesla            Model X Long Range Plus\n",
       "36715    Tesla  Model X Performance (20in Wheels)\n",
       "36716    Tesla  Model X Performance (22in Wheels)\n",
       "36717    Tesla             Model Y Long Range AWD\n",
       "36718    Tesla            Model Y Performance AWD\n",
       "37237    Tesla         Model Y Standard Range RWD"
      ]
     },
     "execution_count": 18,
     "metadata": {},
     "output_type": "execute_result"
    }
   ],
   "source": [
    "vehicles[(vehicles['fuelType1']=='Electricity')& (vehicles['year'] == 2021) & ((vehicles['make']== 'Porsche') | (vehicles['make']== 'Audi') | (vehicles['make']== 'Tesla') )].loc[:,['make', 'model']].sort_values(by = ['make', 'model'], ascending = True)"
   ]
  },
  {
   "cell_type": "markdown",
   "id": "05576b83",
   "metadata": {},
   "source": [
    "etron model for Audi is: \n",
    "    https://www.audiusa.com/us/web/en/models/e-tron/e-tron/2022/overview.html\n",
    "\n",
    "Taycan model for Porsche is:\n",
    "https://www.porsche.com/usa/models/taycan/\n",
    "\n",
    "Tesla only offers electric cars\n"
   ]
  },
  {
   "cell_type": "markdown",
   "id": "e7222fe3",
   "metadata": {},
   "source": [
    "#### Getting more in depth - create a function to get data easily"
   ]
  },
  {
   "cell_type": "markdown",
   "id": "f73db8b4",
   "metadata": {},
   "source": [
    "* Below a function to easy get data about makes and fuel types for in depth analysis"
   ]
  },
  {
   "cell_type": "code",
   "execution_count": 19,
   "id": "0d98cead",
   "metadata": {},
   "outputs": [],
   "source": [
    "def check_make_for_fuel_type (data_frame=vehicles, make_variable = 'Audi', fuel_type_variable = 'Diesel'):\n",
    "    \n",
    "    #from point 1)\n",
    "    cars_with_specific_make = vehicles[vehicles['make']== make_variable]\n",
    "    \n",
    "    #from point 2)\n",
    "    fuel_type_included = (cars_with_specific_make['fuelType1'] == fuel_type_variable).sum()\n",
    "    \n",
    "    #from point 3)\n",
    "    any_cars_with_selected_fuel_type = True if fuel_type_included > 0 else False\n",
    "    \n",
    "    #from point 4) and 5) together\n",
    "    if any_cars_with_selected_fuel_type:\n",
    "        cars_with_specific_make_and_fuel = cars_with_specific_make[cars_with_specific_make['fuelType1'] == fuel_type_variable]\n",
    "        make_model_year_of_selected_fuel_type = cars_with_specific_make_and_fuel.loc[:, ['make', 'model', 'year', 'fuelType1']]\n",
    "        make_model_year_of_selected_fuel_type.sort_values(by = 'year', ascending = True, inplace = True)\n",
    "        print(make_model_year_of_selected_fuel_type)\n",
    "    else:\n",
    "        print(f'no results found for {make_variable} for selected fuel type: {fuel_type_variable}')\n",
    "        \n"
   ]
  },
  {
   "cell_type": "markdown",
   "id": "a69dd04d",
   "metadata": {},
   "source": [
    "Call to the function above to get any __Electric Audi__ model and after the example of how to get __Diesel Porsche__ to demonstrate how this function works. It definitely help with the enalysis"
   ]
  },
  {
   "cell_type": "code",
   "execution_count": 20,
   "id": "0d1aa982",
   "metadata": {},
   "outputs": [
    {
     "name": "stdout",
     "output_type": "stream",
     "text": [
      "       make                                model  year    fuelType1\n",
      "34506  Audi                               e-tron  2019  Electricity\n",
      "35913  Audi                     e-tron Sportback  2020  Electricity\n",
      "36818  Audi                               e-tron  2021  Electricity\n",
      "36819  Audi                     e-tron Sportback  2021  Electricity\n",
      "38212  Audi                            e-tron GT  2022  Electricity\n",
      "38213  Audi               e-tron S (20in wheels)  2022  Electricity\n",
      "38214  Audi       e-tron S (21in or 22in wheels)  2022  Electricity\n",
      "38215  Audi     e-tron S Sportback (20in wheels)  2022  Electricity\n",
      "38217  Audi  e-tron S Sportback (21/22in wheels)  2022  Electricity\n",
      "38218  Audi                    Q4 e-tron quattro  2022  Electricity\n",
      "38219  Audi          Q4 e-tron Sportback quattro  2022  Electricity\n",
      "38220  Audi                         RS e-tron GT  2022  Electricity\n",
      "38372  Audi                       e-tron quattro  2022  Electricity\n",
      "38373  Audi             e-tron Sportback quattro  2022  Electricity\n"
     ]
    }
   ],
   "source": [
    "check_make_for_fuel_type(vehicles, 'Audi', \"Electricity\")"
   ]
  },
  {
   "cell_type": "code",
   "execution_count": 21,
   "id": "b8d2b192",
   "metadata": {},
   "outputs": [
    {
     "name": "stdout",
     "output_type": "stream",
     "text": [
      "          make           model  year fuelType1\n",
      "25397  Porsche  Cayenne Diesel  2013    Diesel\n",
      "25932  Porsche  Cayenne Diesel  2014    Diesel\n",
      "28105  Porsche  Cayenne Diesel  2015    Diesel\n",
      "29408  Porsche  Cayenne Diesel  2016    Diesel\n"
     ]
    }
   ],
   "source": [
    "check_make_for_fuel_type(vehicles, 'Porsche', \"Diesel\")"
   ]
  },
  {
   "cell_type": "markdown",
   "id": "b1dc86dd",
   "metadata": {},
   "source": [
    "#### Summarizing data for the report"
   ]
  },
  {
   "cell_type": "markdown",
   "id": "beacdd98",
   "metadata": {},
   "source": [
    "* Data below will be used to create summary tables. They are exported to excell to apply nicer formatting."
   ]
  },
  {
   "cell_type": "code",
   "execution_count": 22,
   "id": "3cc462da",
   "metadata": {},
   "outputs": [],
   "source": [
    "only_electric_cars.loc[:, ['year','make',  'model']].sort_values(by='make').sort_values('year').to_csv('cars_year_tews.csv')"
   ]
  },
  {
   "cell_type": "code",
   "execution_count": 23,
   "id": "d353291a",
   "metadata": {},
   "outputs": [],
   "source": [
    "only_electric_cars.groupby(['year', 'make']).count()['model'].to_csv('export_test.csv')"
   ]
  },
  {
   "cell_type": "markdown",
   "id": "96650c19",
   "metadata": {},
   "source": [
    "### Resources used of referenced:\n",
    "* https://medium.com/analytics-vidhya/the-jupyter-notebook-formatting-guide-873ab39f765e\n",
    "* https://github.com/nicolas-gervais/predicting-car-price-from-scraped-data\n",
    "* https://electricautonomy.ca/ev-tracker/\n"
   ]
  }
 ],
 "metadata": {
  "kernelspec": {
   "display_name": "Python 3 (ipykernel)",
   "language": "python",
   "name": "python3"
  },
  "language_info": {
   "codemirror_mode": {
    "name": "ipython",
    "version": 3
   },
   "file_extension": ".py",
   "mimetype": "text/x-python",
   "name": "python",
   "nbconvert_exporter": "python",
   "pygments_lexer": "ipython3",
   "version": "3.9.7"
  }
 },
 "nbformat": 4,
 "nbformat_minor": 5
}
